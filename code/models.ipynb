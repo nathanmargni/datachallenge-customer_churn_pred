{
 "cells": [
  {
   "cell_type": "markdown",
   "metadata": {},
   "source": [
    "# Models"
   ]
  },
  {
   "cell_type": "code",
   "execution_count": 5,
   "metadata": {
    "tags": []
   },
   "outputs": [],
   "source": [
    "import pandas as pd\n",
    "from sklearn.metrics import accuracy_score\n",
    "\n",
    "final_df = pd.read_csv(\"data/customer_final.csv\", low_memory=False)"
   ]
  },
  {
   "cell_type": "code",
   "execution_count": 30,
   "metadata": {},
   "outputs": [
    {
     "data": {
      "text/html": [
       "<div>\n",
       "<style scoped>\n",
       "    .dataframe tbody tr th:only-of-type {\n",
       "        vertical-align: middle;\n",
       "    }\n",
       "\n",
       "    .dataframe tbody tr th {\n",
       "        vertical-align: top;\n",
       "    }\n",
       "\n",
       "    .dataframe thead th {\n",
       "        text-align: right;\n",
       "    }\n",
       "</style>\n",
       "<table border=\"1\" class=\"dataframe\">\n",
       "  <thead>\n",
       "    <tr style=\"text-align: right;\">\n",
       "      <th></th>\n",
       "      <th>Unnamed: 0.2</th>\n",
       "      <th>Unnamed: 0.1</th>\n",
       "      <th>Unnamed: 0</th>\n",
       "      <th>Customer ID</th>\n",
       "      <th>Invoice_c</th>\n",
       "      <th>Quantity_c</th>\n",
       "      <th>Price_c</th>\n",
       "      <th>Invoice</th>\n",
       "      <th>Quantity</th>\n",
       "      <th>Price</th>\n",
       "      <th>...</th>\n",
       "      <th>pca_7.2</th>\n",
       "      <th>pca_8</th>\n",
       "      <th>pca_8.1</th>\n",
       "      <th>pca_8.2</th>\n",
       "      <th>pca_9</th>\n",
       "      <th>pca_9.1</th>\n",
       "      <th>pca_9.2</th>\n",
       "      <th>pca_10</th>\n",
       "      <th>pca_10.1</th>\n",
       "      <th>pca_10.2</th>\n",
       "    </tr>\n",
       "  </thead>\n",
       "  <tbody>\n",
       "    <tr>\n",
       "      <th>0</th>\n",
       "      <td>0</td>\n",
       "      <td>0</td>\n",
       "      <td>0</td>\n",
       "      <td>12346.0</td>\n",
       "      <td>1.0</td>\n",
       "      <td>-74215.0</td>\n",
       "      <td>1.04</td>\n",
       "      <td>26</td>\n",
       "      <td>24</td>\n",
       "      <td>171.44</td>\n",
       "      <td>...</td>\n",
       "      <td>-0.670921</td>\n",
       "      <td>0.024968</td>\n",
       "      <td>0.516689</td>\n",
       "      <td>-0.365304</td>\n",
       "      <td>0.083339</td>\n",
       "      <td>0.283688</td>\n",
       "      <td>-0.214012</td>\n",
       "      <td>0.191818</td>\n",
       "      <td>0.786559</td>\n",
       "      <td>-0.081206</td>\n",
       "    </tr>\n",
       "    <tr>\n",
       "      <th>1</th>\n",
       "      <td>1</td>\n",
       "      <td>1</td>\n",
       "      <td>1</td>\n",
       "      <td>12349.0</td>\n",
       "      <td>5.0</td>\n",
       "      <td>-5.0</td>\n",
       "      <td>24.15</td>\n",
       "      <td>177</td>\n",
       "      <td>1616</td>\n",
       "      <td>754.59</td>\n",
       "      <td>...</td>\n",
       "      <td>-0.646462</td>\n",
       "      <td>0.025011</td>\n",
       "      <td>0.735054</td>\n",
       "      <td>-0.618773</td>\n",
       "      <td>0.025116</td>\n",
       "      <td>1.078276</td>\n",
       "      <td>-0.896063</td>\n",
       "      <td>-0.040778</td>\n",
       "      <td>0.654058</td>\n",
       "      <td>-0.549415</td>\n",
       "    </tr>\n",
       "    <tr>\n",
       "      <th>2</th>\n",
       "      <td>2</td>\n",
       "      <td>2</td>\n",
       "      <td>2</td>\n",
       "      <td>12352.0</td>\n",
       "      <td>7.0</td>\n",
       "      <td>-63.0</td>\n",
       "      <td>16.69</td>\n",
       "      <td>102</td>\n",
       "      <td>651</td>\n",
       "      <td>385.10</td>\n",
       "      <td>...</td>\n",
       "      <td>-0.537718</td>\n",
       "      <td>0.043131</td>\n",
       "      <td>0.623923</td>\n",
       "      <td>-0.644578</td>\n",
       "      <td>0.052262</td>\n",
       "      <td>0.363034</td>\n",
       "      <td>-0.584988</td>\n",
       "      <td>-0.050469</td>\n",
       "      <td>0.585516</td>\n",
       "      <td>-1.211741</td>\n",
       "    </tr>\n",
       "    <tr>\n",
       "      <th>3</th>\n",
       "      <td>3</td>\n",
       "      <td>3</td>\n",
       "      <td>3</td>\n",
       "      <td>12359.0</td>\n",
       "      <td>10.0</td>\n",
       "      <td>-226.0</td>\n",
       "      <td>96.34</td>\n",
       "      <td>370</td>\n",
       "      <td>2481</td>\n",
       "      <td>2771.57</td>\n",
       "      <td>...</td>\n",
       "      <td>-0.813366</td>\n",
       "      <td>0.016996</td>\n",
       "      <td>0.481893</td>\n",
       "      <td>-0.644578</td>\n",
       "      <td>0.063463</td>\n",
       "      <td>0.871768</td>\n",
       "      <td>-0.555829</td>\n",
       "      <td>0.063305</td>\n",
       "      <td>0.612862</td>\n",
       "      <td>-1.211741</td>\n",
       "    </tr>\n",
       "    <tr>\n",
       "      <th>4</th>\n",
       "      <td>4</td>\n",
       "      <td>4</td>\n",
       "      <td>4</td>\n",
       "      <td>12362.0</td>\n",
       "      <td>8.0</td>\n",
       "      <td>-17.0</td>\n",
       "      <td>35.00</td>\n",
       "      <td>262</td>\n",
       "      <td>2168</td>\n",
       "      <td>924.19</td>\n",
       "      <td>...</td>\n",
       "      <td>-0.802868</td>\n",
       "      <td>-0.017283</td>\n",
       "      <td>0.595576</td>\n",
       "      <td>-0.688538</td>\n",
       "      <td>0.090746</td>\n",
       "      <td>0.637693</td>\n",
       "      <td>-0.536612</td>\n",
       "      <td>0.018972</td>\n",
       "      <td>0.712855</td>\n",
       "      <td>-0.612867</td>\n",
       "    </tr>\n",
       "    <tr>\n",
       "      <th>...</th>\n",
       "      <td>...</td>\n",
       "      <td>...</td>\n",
       "      <td>...</td>\n",
       "      <td>...</td>\n",
       "      <td>...</td>\n",
       "      <td>...</td>\n",
       "      <td>...</td>\n",
       "      <td>...</td>\n",
       "      <td>...</td>\n",
       "      <td>...</td>\n",
       "      <td>...</td>\n",
       "      <td>...</td>\n",
       "      <td>...</td>\n",
       "      <td>...</td>\n",
       "      <td>...</td>\n",
       "      <td>...</td>\n",
       "      <td>...</td>\n",
       "      <td>...</td>\n",
       "      <td>...</td>\n",
       "      <td>...</td>\n",
       "      <td>...</td>\n",
       "    </tr>\n",
       "    <tr>\n",
       "      <th>5873</th>\n",
       "      <td>5873</td>\n",
       "      <td>5873</td>\n",
       "      <td>5873</td>\n",
       "      <td>18278.0</td>\n",
       "      <td>0.0</td>\n",
       "      <td>0.0</td>\n",
       "      <td>0.00</td>\n",
       "      <td>24</td>\n",
       "      <td>140</td>\n",
       "      <td>95.00</td>\n",
       "      <td>...</td>\n",
       "      <td>-0.614074</td>\n",
       "      <td>-0.033557</td>\n",
       "      <td>0.259615</td>\n",
       "      <td>-0.688538</td>\n",
       "      <td>0.051891</td>\n",
       "      <td>0.349249</td>\n",
       "      <td>-0.209496</td>\n",
       "      <td>-0.009724</td>\n",
       "      <td>0.501908</td>\n",
       "      <td>-0.531035</td>\n",
       "    </tr>\n",
       "    <tr>\n",
       "      <th>5874</th>\n",
       "      <td>5874</td>\n",
       "      <td>5874</td>\n",
       "      <td>5874</td>\n",
       "      <td>18279.0</td>\n",
       "      <td>0.0</td>\n",
       "      <td>0.0</td>\n",
       "      <td>0.00</td>\n",
       "      <td>13</td>\n",
       "      <td>630</td>\n",
       "      <td>7.12</td>\n",
       "      <td>...</td>\n",
       "      <td>-0.044624</td>\n",
       "      <td>-0.309521</td>\n",
       "      <td>-0.036128</td>\n",
       "      <td>-0.657527</td>\n",
       "      <td>-0.249633</td>\n",
       "      <td>0.100495</td>\n",
       "      <td>-0.449612</td>\n",
       "      <td>0.094707</td>\n",
       "      <td>0.418229</td>\n",
       "      <td>-0.115535</td>\n",
       "    </tr>\n",
       "    <tr>\n",
       "      <th>5875</th>\n",
       "      <td>5875</td>\n",
       "      <td>5875</td>\n",
       "      <td>5875</td>\n",
       "      <td>18281.0</td>\n",
       "      <td>0.0</td>\n",
       "      <td>0.0</td>\n",
       "      <td>0.00</td>\n",
       "      <td>16</td>\n",
       "      <td>140</td>\n",
       "      <td>54.62</td>\n",
       "      <td>...</td>\n",
       "      <td>-0.334112</td>\n",
       "      <td>-0.167572</td>\n",
       "      <td>0.126476</td>\n",
       "      <td>-0.440544</td>\n",
       "      <td>0.228325</td>\n",
       "      <td>0.535896</td>\n",
       "      <td>-0.262926</td>\n",
       "      <td>0.007646</td>\n",
       "      <td>0.611620</td>\n",
       "      <td>-0.315044</td>\n",
       "    </tr>\n",
       "    <tr>\n",
       "      <th>5876</th>\n",
       "      <td>5876</td>\n",
       "      <td>5876</td>\n",
       "      <td>5876</td>\n",
       "      <td>18283.0</td>\n",
       "      <td>0.0</td>\n",
       "      <td>0.0</td>\n",
       "      <td>0.00</td>\n",
       "      <td>931</td>\n",
       "      <td>1669</td>\n",
       "      <td>1631.90</td>\n",
       "      <td>...</td>\n",
       "      <td>-0.717808</td>\n",
       "      <td>-0.064724</td>\n",
       "      <td>0.734996</td>\n",
       "      <td>-0.618773</td>\n",
       "      <td>0.039544</td>\n",
       "      <td>1.078276</td>\n",
       "      <td>-0.670552</td>\n",
       "      <td>0.030797</td>\n",
       "      <td>0.684941</td>\n",
       "      <td>-0.601455</td>\n",
       "    </tr>\n",
       "    <tr>\n",
       "      <th>5877</th>\n",
       "      <td>5877</td>\n",
       "      <td>5877</td>\n",
       "      <td>5877</td>\n",
       "      <td>18285.0</td>\n",
       "      <td>0.0</td>\n",
       "      <td>0.0</td>\n",
       "      <td>0.00</td>\n",
       "      <td>12</td>\n",
       "      <td>145</td>\n",
       "      <td>100.20</td>\n",
       "      <td>...</td>\n",
       "      <td>-0.347944</td>\n",
       "      <td>0.037512</td>\n",
       "      <td>0.340602</td>\n",
       "      <td>-0.247329</td>\n",
       "      <td>-0.103527</td>\n",
       "      <td>0.454991</td>\n",
       "      <td>-0.352941</td>\n",
       "      <td>0.056358</td>\n",
       "      <td>0.610416</td>\n",
       "      <td>-0.335895</td>\n",
       "    </tr>\n",
       "  </tbody>\n",
       "</table>\n",
       "<p>5878 rows × 2742 columns</p>\n",
       "</div>"
      ],
      "text/plain": [
       "      Unnamed: 0.2  Unnamed: 0.1  Unnamed: 0  Customer ID  Invoice_c  \\\n",
       "0                0             0           0      12346.0        1.0   \n",
       "1                1             1           1      12349.0        5.0   \n",
       "2                2             2           2      12352.0        7.0   \n",
       "3                3             3           3      12359.0       10.0   \n",
       "4                4             4           4      12362.0        8.0   \n",
       "...            ...           ...         ...          ...        ...   \n",
       "5873          5873          5873        5873      18278.0        0.0   \n",
       "5874          5874          5874        5874      18279.0        0.0   \n",
       "5875          5875          5875        5875      18281.0        0.0   \n",
       "5876          5876          5876        5876      18283.0        0.0   \n",
       "5877          5877          5877        5877      18285.0        0.0   \n",
       "\n",
       "      Quantity_c  Price_c  Invoice  Quantity    Price  ...   pca_7.2  \\\n",
       "0       -74215.0     1.04       26        24   171.44  ... -0.670921   \n",
       "1           -5.0    24.15      177      1616   754.59  ... -0.646462   \n",
       "2          -63.0    16.69      102       651   385.10  ... -0.537718   \n",
       "3         -226.0    96.34      370      2481  2771.57  ... -0.813366   \n",
       "4          -17.0    35.00      262      2168   924.19  ... -0.802868   \n",
       "...          ...      ...      ...       ...      ...  ...       ...   \n",
       "5873         0.0     0.00       24       140    95.00  ... -0.614074   \n",
       "5874         0.0     0.00       13       630     7.12  ... -0.044624   \n",
       "5875         0.0     0.00       16       140    54.62  ... -0.334112   \n",
       "5876         0.0     0.00      931      1669  1631.90  ... -0.717808   \n",
       "5877         0.0     0.00       12       145   100.20  ... -0.347944   \n",
       "\n",
       "         pca_8   pca_8.1   pca_8.2     pca_9   pca_9.1   pca_9.2    pca_10  \\\n",
       "0     0.024968  0.516689 -0.365304  0.083339  0.283688 -0.214012  0.191818   \n",
       "1     0.025011  0.735054 -0.618773  0.025116  1.078276 -0.896063 -0.040778   \n",
       "2     0.043131  0.623923 -0.644578  0.052262  0.363034 -0.584988 -0.050469   \n",
       "3     0.016996  0.481893 -0.644578  0.063463  0.871768 -0.555829  0.063305   \n",
       "4    -0.017283  0.595576 -0.688538  0.090746  0.637693 -0.536612  0.018972   \n",
       "...        ...       ...       ...       ...       ...       ...       ...   \n",
       "5873 -0.033557  0.259615 -0.688538  0.051891  0.349249 -0.209496 -0.009724   \n",
       "5874 -0.309521 -0.036128 -0.657527 -0.249633  0.100495 -0.449612  0.094707   \n",
       "5875 -0.167572  0.126476 -0.440544  0.228325  0.535896 -0.262926  0.007646   \n",
       "5876 -0.064724  0.734996 -0.618773  0.039544  1.078276 -0.670552  0.030797   \n",
       "5877  0.037512  0.340602 -0.247329 -0.103527  0.454991 -0.352941  0.056358   \n",
       "\n",
       "      pca_10.1  pca_10.2  \n",
       "0     0.786559 -0.081206  \n",
       "1     0.654058 -0.549415  \n",
       "2     0.585516 -1.211741  \n",
       "3     0.612862 -1.211741  \n",
       "4     0.712855 -0.612867  \n",
       "...        ...       ...  \n",
       "5873  0.501908 -0.531035  \n",
       "5874  0.418229 -0.115535  \n",
       "5875  0.611620 -0.315044  \n",
       "5876  0.684941 -0.601455  \n",
       "5877  0.610416 -0.335895  \n",
       "\n",
       "[5878 rows x 2742 columns]"
      ]
     },
     "execution_count": 30,
     "metadata": {},
     "output_type": "execute_result"
    }
   ],
   "source": [
    "final_test = final_df.drop([\"Description\", \"Desciption_c\", \"InvoiceDate\", \"Time since last purchase\"], axis=1)\n",
    "final_test"
   ]
  },
  {
   "cell_type": "markdown",
   "metadata": {},
   "source": [
    "here we select all the columns selected by the lasso feature selection, if needed to test other features selected simply change the list inside."
   ]
  },
  {
   "cell_type": "code",
   "execution_count": 19,
   "metadata": {},
   "outputs": [],
   "source": [
    "final_test_lasso = final_df[[\"Customer ID\", \"Quantity\", \"0_Absolute energy\", \"0_Area under the curve\", \"0_Autocorrelation\", \"0_ECDF Percentile Count_0\", \"0_ECDF Percentile Count_1\", \"0_ECDF Percentile_0\", \"0_ECDF Percentile_1\", \"0_FFT mean coefficient_0\", \"0_FFT mean coefficient_1\", \"0_FFT mean coefficient_10\", \"0_FFT mean coefficient_11\", \"0_FFT mean coefficient_12\", \"0_FFT mean coefficient_2\", \"0_FFT mean coefficient_3\", \"0_FFT mean coefficient_4\", \"0_FFT mean coefficient_5\", \"0_FFT mean coefficient_6\", \"0_FFT mean coefficient_7\", \"0_FFT mean coefficient_8\", \"0_FFT mean coefficient_9\", \"0_Interquartile range\", \"0_Max\", \"0_Mean\", \"0_Mean absolute deviation\", \"0_Mean absolute diff\", \"0_Median\", \"0_Median absolute deviation\", \"0_Min\", \"0_Peak to peak distance\", \"0_Root mean square\", \"0_Spectral decrease\", \"0_Spectral distance\", \"0_Spectral kurtosis\", \"0_Spectral skewness\", \"0_Standard deviation\", \"0_Sum absolute diff\", \"0_Total energy\", \"0_Variance\", \"0_Wavelet absolute mean_0\", \"0_Wavelet absolute mean_1\", \"0_Wavelet absolute mean_2\", \"0_Wavelet absolute mean_3\", \"0_Wavelet absolute mean_4\", \"0_Wavelet absolute mean_5\", \"0_Wavelet absolute mean_6\", \"0_Wavelet absolute mean_7\", \"0_Wavelet absolute mean_8\", \"0_Wavelet energy_0\", \"0_Wavelet energy_1\", \"0_Wavelet energy_2\", \"0_Wavelet energy_3\", \"0_Wavelet energy_4\", \"0_Wavelet energy_5\", \"0_Wavelet energy_6\", \"0_Wavelet energy_7\", \"0_Wavelet energy_8\", \"0_Wavelet standard deviation_0\", \"0_Wavelet standard deviation_1\", \"0_Wavelet standard deviation_2\", \"0_Wavelet standard deviation_3\", \"0_Wavelet standard deviation_4\", \"0_Wavelet standard deviation_5\", \"0_Wavelet standard deviation_6\", \"0_Wavelet standard deviation_7\", \"0_Wavelet standard deviation_8\", \"0_Wavelet variance_0\", \"0_Wavelet variance_1\", \"0_Wavelet variance_2\", \"0_Wavelet variance_3\", \"0_Wavelet variance_4\", \"0_Wavelet variance_5\", \"0_Wavelet variance_6\", \"0_Wavelet variance_7\", \"0_Wavelet variance_8\", \"1_Absolute energy\", \"1_Autocorrelation\", \"1_FFT mean coefficient_1\", \"1_FFT mean coefficient_2\", \"1_FFT mean coefficient_5\", \"1_Signal distance\", \"1_Spectral decrease\", \"1_Spectral distance\", \"1_Spectral kurtosis\", \"1_Spectral skewness\", \"1_Total energy\", \"1_Variance\", \"1_Wavelet variance_0\", \"1_Wavelet variance_1\", \"1_Wavelet variance_2\", \"1_Wavelet variance_3\", \"1_Wavelet variance_4\", \"1_Wavelet variance_5\", \"1_Wavelet variance_6\", \"1_Wavelet variance_7\", \"1_Wavelet variance_8\", \"2_Absolute energy\", \"2_Area under the curve\", \"2_Autocorrelation\", \"2_ECDF Percentile Count_0\", \"2_ECDF Percentile Count_1\", \"2_ECDF Percentile_0\", \"2_ECDF Percentile_1\", \"2_FFT mean coefficient_0\", \"2_FFT mean coefficient_1\", \"2_FFT mean coefficient_10\", \"2_FFT mean coefficient_11\", \"2_FFT mean coefficient_12\", \"2_FFT mean coefficient_2\", \"2_FFT mean coefficient_3\", \"2_FFT mean coefficient_4\", \"2_FFT mean coefficient_5\", \"2_FFT mean coefficient_6\", \"2_FFT mean coefficient_7\", \"2_FFT mean coefficient_8\", \"2_FFT mean coefficient_9\", \"2_Interquartile range\", \"2_Max\", \"2_Mean\", \"2_Mean absolute deviation\", \"2_Mean absolute diff\", \"2_Mean diff\", \"2_Median\", \"2_Median absolute deviation\", \"2_Median absolute diff\", \"2_Median diff\", \"2_Min\", \"2_Peak to peak distance\", \"2_Root mean square\", \"2_Signal distance\", \"2_Slope\", \"2_Spectral decrease\", \"2_Spectral distance\", \"2_Spectral kurtosis\", \"2_Spectral skewness\", \"2_Standard deviation\", \"2_Sum absolute diff\", \"2_Total energy\", \"2_Variance\", \"2_Wavelet absolute mean_0\", \"2_Wavelet absolute mean_1\", \"2_Wavelet absolute mean_2\", \"2_Wavelet absolute mean_3\", \"2_Wavelet absolute mean_4\", \"2_Wavelet absolute mean_5\", \"2_Wavelet absolute mean_6\", \"2_Wavelet absolute mean_7\", \"2_Wavelet absolute mean_8\", \"2_Wavelet energy_0\", \"2_Wavelet energy_1\", \"2_Wavelet energy_2\", \"2_Wavelet energy_3\", \"2_Wavelet energy_4\", \"2_Wavelet energy_5\", \"2_Wavelet energy_6\", \"2_Wavelet energy_7\", \"2_Wavelet energy_8\", \"2_Wavelet standard deviation_0\", \"2_Wavelet standard deviation_1\", \"2_Wavelet standard deviation_2\", \"2_Wavelet standard deviation_3\", \"2_Wavelet standard deviation_4\", \"2_Wavelet standard deviation_5\", \"2_Wavelet standard deviation_6\", \"2_Wavelet standard deviation_7\", \"2_Wavelet standard deviation_8\", \"2_Wavelet variance_0\", \"2_Wavelet variance_1\", \"2_Wavelet variance_2\", \"2_Wavelet variance_3\", \"2_Wavelet variance_4\", \"2_Wavelet variance_5\", \"2_Wavelet variance_6\", \"2_Wavelet variance_7\", \"2_Wavelet variance_8\", \"3_Absolute energy\", \"3_Autocorrelation\", \"3_Spectral decrease\", \"3_Spectral distance\", \"3_Spectral kurtosis\", \"3_Total energy\", \"3_Wavelet variance_0\", \"4_Absolute energy\", \"4_Autocorrelation\", \"4_FFT mean coefficient_0\", \"4_FFT mean coefficient_1\", \"4_FFT mean coefficient_10\", \"4_FFT mean coefficient_4\", \"4_FFT mean coefficient_6\", \"4_FFT mean coefficient_9\", \"4_Signal distance\", \"4_Spectral distance\", \"4_Sum absolute diff\", \"4_Total energy\", \"4_Variance\", \"4_Wavelet variance_0\", \"4_Wavelet variance_1\", \"4_Wavelet variance_2\", \"4_Wavelet variance_3\", \"4_Wavelet variance_4\", \"4_Wavelet variance_5\", \"4_Wavelet variance_6\", \"4_Wavelet variance_7\", \"4_Wavelet variance_8\", \"0_FFT mean coefficient_13\", \"0_FFT mean coefficient_14\", \"0_FFT mean coefficient_15\", \"0_FFT mean coefficient_16\", \"0_FFT mean coefficient_17\", \"0_FFT mean coefficient_18\", \"0_FFT mean coefficient_19\", \"0_FFT mean coefficient_20\", \"0_FFT mean coefficient_21\", \"0_FFT mean coefficient_22\", \"0_FFT mean coefficient_23\", \"0_FFT mean coefficient_24\", \"0_FFT mean coefficient_25\", \"0_FFT mean coefficient_26\", \"0_FFT mean coefficient_27\", \"0_FFT mean coefficient_28\", \"0_FFT mean coefficient_29\", \"0_FFT mean coefficient_30\", \"0_FFT mean coefficient_31\", \"0_FFT mean coefficient_32\", \"0_FFT mean coefficient_33\", \"0_FFT mean coefficient_34\", \"0_FFT mean coefficient_35\", \"0_FFT mean coefficient_36\", \"0_FFT mean coefficient_37\", \"0_FFT mean coefficient_38\", \"0_FFT mean coefficient_39\", \"0_FFT mean coefficient_40\", \"0_FFT mean coefficient_41\", \"0_FFT mean coefficient_42\", \"0_FFT mean coefficient_43\", \"0_FFT mean coefficient_44\", \"0_FFT mean coefficient_45\", \"0_FFT mean coefficient_46\", \"0_FFT mean coefficient_47\", \"0_FFT mean coefficient_48\", \"0_FFT mean coefficient_49\", \"0_FFT mean coefficient_50\", \"0_FFT mean coefficient_51\", \"0_FFT mean coefficient_52\", \"0_FFT mean coefficient_53\", \"0_FFT mean coefficient_54\", \"0_FFT mean coefficient_55\", \"0_FFT mean coefficient_56\", \"0_FFT mean coefficient_57\", \"0_FFT mean coefficient_58\", \"0_FFT mean coefficient_59\", \"0_FFT mean coefficient_60\", \"0_FFT mean coefficient_61\", \"0_FFT mean coefficient_62\", \"0_FFT mean coefficient_63\", \"0_FFT mean coefficient_64\", \"0_FFT mean coefficient_65\", \"0_FFT mean coefficient_66\", \"0_FFT mean coefficient_67\", \"0_FFT mean coefficient_68\", \"0_FFT mean coefficient_70\", \"0_FFT mean coefficient_71\", \"0_FFT mean coefficient_72\", \"0_FFT mean coefficient_73\", \"0_FFT mean coefficient_74\", \"0_FFT mean coefficient_75\", \"0_FFT mean coefficient_76\", \"0_FFT mean coefficient_78\", \"0_FFT mean coefficient_79\", \"0_FFT mean coefficient_80\", \"0_FFT mean coefficient_81\", \"0_FFT mean coefficient_82\", \"0_FFT mean coefficient_83\", \"0_FFT mean coefficient_84\", \"0_FFT mean coefficient_86\", \"0_FFT mean coefficient_87\", \"1_FFT mean coefficient_13\", \"2_FFT mean coefficient_13\", \"2_FFT mean coefficient_14\", \"2_FFT mean coefficient_15\", \"2_FFT mean coefficient_16\", \"2_FFT mean coefficient_17\", \"2_FFT mean coefficient_18\", \"2_FFT mean coefficient_19\", \"2_FFT mean coefficient_20\", \"2_FFT mean coefficient_21\", \"2_FFT mean coefficient_22\", \"2_FFT mean coefficient_23\", \"2_FFT mean coefficient_24\", \"2_FFT mean coefficient_25\", \"2_FFT mean coefficient_26\", \"2_FFT mean coefficient_27\", \"2_FFT mean coefficient_28\", \"2_FFT mean coefficient_29\", \"2_FFT mean coefficient_30\", \"2_FFT mean coefficient_31\", \"2_FFT mean coefficient_32\", \"2_FFT mean coefficient_33\", \"2_FFT mean coefficient_34\", \"2_FFT mean coefficient_35\", \"2_FFT mean coefficient_36\", \"2_FFT mean coefficient_37\", \"2_FFT mean coefficient_38\", \"2_FFT mean coefficient_39\", \"2_FFT mean coefficient_40\", \"2_FFT mean coefficient_41\", \"2_FFT mean coefficient_42\", \"2_FFT mean coefficient_43\", \"2_FFT mean coefficient_44\", \"2_FFT mean coefficient_45\", \"2_FFT mean coefficient_46\", \"2_FFT mean coefficient_47\", \"2_FFT mean coefficient_48\", \"2_FFT mean coefficient_49\", \"2_FFT mean coefficient_50\", \"2_FFT mean coefficient_51\", \"2_FFT mean coefficient_52\", \"2_FFT mean coefficient_53\", \"2_FFT mean coefficient_54\", \"2_FFT mean coefficient_55\", \"2_FFT mean coefficient_56\", \"2_FFT mean coefficient_57\", \"2_FFT mean coefficient_58\", \"2_FFT mean coefficient_59\", \"2_FFT mean coefficient_60\", \"2_FFT mean coefficient_61\", \"2_FFT mean coefficient_62\", \"2_FFT mean coefficient_63\", \"2_FFT mean coefficient_64\", \"2_FFT mean coefficient_65\", \"2_FFT mean coefficient_66\", \"2_FFT mean coefficient_67\", \"2_FFT mean coefficient_68\", \"2_FFT mean coefficient_69\", \"2_FFT mean coefficient_70\", \"2_FFT mean coefficient_71\", \"2_FFT mean coefficient_72\", \"2_FFT mean coefficient_73\", \"2_FFT mean coefficient_74\", \"2_FFT mean coefficient_75\", \"2_FFT mean coefficient_76\", \"2_FFT mean coefficient_77\", \"2_FFT mean coefficient_78\", \"2_FFT mean coefficient_79\", \"2_FFT mean coefficient_80\", \"2_FFT mean coefficient_81\", \"2_FFT mean coefficient_82\", \"2_FFT mean coefficient_83\", \"2_FFT mean coefficient_84\", \"2_FFT mean coefficient_85\", \"2_FFT mean coefficient_86\", \"2_FFT mean coefficient_87\"]]"
   ]
  },
  {
   "cell_type": "code",
   "execution_count": 20,
   "metadata": {},
   "outputs": [],
   "source": [
    "from sklearn.preprocessing import StandardScaler\n",
    "\n",
    "from sklearn.decomposition import PCA\n"
   ]
  },
  {
   "cell_type": "code",
   "execution_count": 21,
   "metadata": {},
   "outputs": [
    {
     "data": {
      "text/plain": [
       "array([[-6.81575702e+00,  1.21026898e+01,  2.60278113e+01, ...,\n",
       "        -5.06889242e+00, -6.79184713e+00,  1.91731692e+01],\n",
       "       [ 3.92241820e+01, -9.69887484e+00,  8.07959888e+00, ...,\n",
       "        -5.16038650e+00,  5.88113686e+00,  9.39123348e-01],\n",
       "       [-4.06878113e-01, -4.18335828e-01, -6.34652830e+00, ...,\n",
       "         9.42202555e-01, -4.09728117e-01, -1.61374304e-01],\n",
       "       ...,\n",
       "       [-7.09405121e+00, -4.00610503e+00,  2.22007493e+00, ...,\n",
       "        -2.85979501e+00, -9.75174590e-01, -5.73756815e-01],\n",
       "       [ 2.15326989e+01,  4.14922669e+00,  3.56855692e+00, ...,\n",
       "        -1.23723322e+00, -1.77647551e+00, -1.69824821e+00],\n",
       "       [-9.07544558e+00, -2.33887119e+00,  5.82200342e+00, ...,\n",
       "         5.43462337e-01, -1.12756121e+00,  2.75583806e-02]])"
      ]
     },
     "execution_count": 21,
     "metadata": {},
     "output_type": "execute_result"
    }
   ],
   "source": [
    "pca_features"
   ]
  },
  {
   "cell_type": "markdown",
   "metadata": {},
   "source": [
    "necessary debugging step to ensure there are no problems with very high values"
   ]
  },
  {
   "cell_type": "code",
   "execution_count": 31,
   "metadata": {},
   "outputs": [
    {
     "name": "stderr",
     "output_type": "stream",
     "text": [
      "C:\\Users\\natha\\AppData\\Local\\Temp\\ipykernel_15304\\1644591861.py:4: SettingWithCopyWarning: \n",
      "A value is trying to be set on a copy of a slice from a DataFrame.\n",
      "Try using .loc[row_indexer,col_indexer] = value instead\n",
      "\n",
      "See the caveats in the documentation: https://pandas.pydata.org/pandas-docs/stable/user_guide/indexing.html#returning-a-view-versus-a-copy\n",
      "  final_test_lasso.fillna(final_test_lasso.max(),inplace=True)\n"
     ]
    }
   ],
   "source": [
    "import numpy as np\n",
    "final_test_lasso[final_test_lasso.select_dtypes(np.float64).columns] = final_test_lasso.select_dtypes(np.float64).astype(np.float32)\n",
    "pd.options.mode.use_inf_as_na = True\n",
    "final_test_lasso.fillna(final_test_lasso.max(),inplace=True)"
   ]
  },
  {
   "cell_type": "code",
   "execution_count": 23,
   "metadata": {},
   "outputs": [],
   "source": [
    "scaler = StandardScaler()\n",
    "features = scaler.fit_transform(final_test_lasso)\n",
    "pca = PCA(10)\n",
    "\n",
    "\n",
    "pca_features = pca.fit_transform(features)"
   ]
  },
  {
   "cell_type": "markdown",
   "metadata": {},
   "source": [
    "## Train test split"
   ]
  },
  {
   "cell_type": "code",
   "execution_count": 39,
   "metadata": {
    "collapsed": false,
    "jupyter": {
     "outputs_hidden": false
    },
    "pycharm": {
     "name": "#%%\n"
    }
   },
   "outputs": [],
   "source": [
    "from sklearn.model_selection import train_test_split\n",
    "\n",
    "X = final_test_lasso\n",
    "y = final_test[\"churn\"]\n",
    "X_train, X_test, y_train, y_test = train_test_split(X, y, test_size=0.20, random_state=33)"
   ]
  },
  {
   "cell_type": "markdown",
   "metadata": {},
   "source": [
    "## K neighbors classifier"
   ]
  },
  {
   "cell_type": "code",
   "execution_count": 40,
   "metadata": {
    "collapsed": false,
    "jupyter": {
     "outputs_hidden": false
    },
    "pycharm": {
     "name": "#%%\n"
    }
   },
   "outputs": [
    {
     "data": {
      "text/plain": [
       "0.8673469387755102"
      ]
     },
     "execution_count": 40,
     "metadata": {},
     "output_type": "execute_result"
    }
   ],
   "source": [
    "from sklearn.neighbors import KNeighborsClassifier\n",
    "knn = KNeighborsClassifier(n_neighbors=5)\n",
    "knn.fit(X_train, y_train)\n",
    "accuracy_score(y_test, knn.predict(X_test))"
   ]
  },
  {
   "cell_type": "markdown",
   "metadata": {},
   "source": [
    "## Tree decision classifier"
   ]
  },
  {
   "cell_type": "code",
   "execution_count": 41,
   "metadata": {
    "collapsed": false,
    "jupyter": {
     "outputs_hidden": false
    },
    "pycharm": {
     "name": "#%%\n"
    }
   },
   "outputs": [
    {
     "data": {
      "text/plain": [
       "0.9872448979591837"
      ]
     },
     "execution_count": 41,
     "metadata": {},
     "output_type": "execute_result"
    }
   ],
   "source": [
    "from sklearn import tree\n",
    "tree_clf = tree.DecisionTreeClassifier()\n",
    "tree_clf = tree_clf.fit(X_train, y_train)\n",
    "accuracy_score(y_test, tree_clf.predict(X_test))"
   ]
  },
  {
   "cell_type": "markdown",
   "metadata": {},
   "source": [
    "## Rnadom forest classifier"
   ]
  },
  {
   "cell_type": "code",
   "execution_count": 42,
   "metadata": {},
   "outputs": [
    {
     "data": {
      "text/plain": [
       "0.9914965986394558"
      ]
     },
     "execution_count": 42,
     "metadata": {},
     "output_type": "execute_result"
    }
   ],
   "source": [
    "from sklearn.ensemble import RandomForestClassifier\n",
    "rf_model = RandomForestClassifier()\n",
    "rf_model.fit(X_train, y_train)\n",
    "accuracy_score(y_test, rf_model.predict(X_test))"
   ]
  },
  {
   "cell_type": "markdown",
   "metadata": {},
   "source": [
    "## Support vector machine"
   ]
  },
  {
   "cell_type": "code",
   "execution_count": 43,
   "metadata": {
    "collapsed": false,
    "jupyter": {
     "outputs_hidden": false
    },
    "pycharm": {
     "name": "#%%\n"
    }
   },
   "outputs": [
    {
     "data": {
      "text/plain": [
       "0.7270408163265306"
      ]
     },
     "execution_count": 43,
     "metadata": {},
     "output_type": "execute_result"
    }
   ],
   "source": [
    "from sklearn import svm\n",
    "svm_clf = svm.SVC()\n",
    "svm_clf.fit(X_train, y_train)\n",
    "accuracy_score(y_test, svm_clf.predict(X_test))"
   ]
  },
  {
   "cell_type": "markdown",
   "metadata": {},
   "source": [
    "## Neural network"
   ]
  },
  {
   "cell_type": "code",
   "execution_count": 44,
   "metadata": {
    "collapsed": false,
    "jupyter": {
     "outputs_hidden": false
    },
    "pycharm": {
     "name": "#%%\n"
    }
   },
   "outputs": [
    {
     "name": "stderr",
     "output_type": "stream",
     "text": [
      "C:\\Installed_programs\\Conda\\envs\\dc\\lib\\site-packages\\sklearn\\neural_network\\_multilayer_perceptron.py:559: ConvergenceWarning: lbfgs failed to converge (status=2):\n",
      "ABNORMAL_TERMINATION_IN_LNSRCH.\n",
      "\n",
      "Increase the number of iterations (max_iter) or scale the data as shown in:\n",
      "    https://scikit-learn.org/stable/modules/preprocessing.html\n",
      "  self.n_iter_ = _check_optimize_result(\"lbfgs\", opt_res, self.max_iter)\n"
     ]
    },
    {
     "data": {
      "text/plain": [
       "0.5875850340136054"
      ]
     },
     "execution_count": 44,
     "metadata": {},
     "output_type": "execute_result"
    }
   ],
   "source": [
    "from sklearn.neural_network import MLPClassifier\n",
    "clf = MLPClassifier(solver='lbfgs', alpha=1e-5, hidden_layer_sizes=(15,), random_state=1)\n",
    "clf.fit(X_train, y_train)\n",
    "accuracy_score(y_test, clf.predict(X_test))"
   ]
  },
  {
   "cell_type": "markdown",
   "metadata": {},
   "source": []
  },
  {
   "cell_type": "code",
   "execution_count": null,
   "metadata": {},
   "outputs": [],
   "source": []
  }
 ],
 "metadata": {
  "kernelspec": {
   "display_name": "Python 3 (ipykernel)",
   "language": "python",
   "name": "python3"
  },
  "language_info": {
   "codemirror_mode": {
    "name": "ipython",
    "version": 3
   },
   "file_extension": ".py",
   "mimetype": "text/x-python",
   "name": "python",
   "nbconvert_exporter": "python",
   "pygments_lexer": "ipython3",
   "version": "3.10.6"
  },
  "widgets": {
   "application/vnd.jupyter.widget-state+json": {
    "state": {},
    "version_major": 2,
    "version_minor": 0
   }
  }
 },
 "nbformat": 4,
 "nbformat_minor": 4
}
